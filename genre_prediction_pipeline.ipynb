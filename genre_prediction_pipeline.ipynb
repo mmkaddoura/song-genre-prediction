{
 "cells": [
  {
   "cell_type": "markdown",
   "id": "seven-omega",
   "metadata": {
    "id": "union-sessions"
   },
   "source": [
    "# Import packages"
   ]
  },
  {
   "cell_type": "code",
   "execution_count": 1,
   "id": "dried-tattoo",
   "metadata": {
    "id": "worldwide-tiger"
   },
   "outputs": [],
   "source": [
    "import numpy as np\n",
    "import pandas as pd\n",
    "\n",
    "from sklearn.base            import BaseEstimator\n",
    "from sklearn.metrics         import make_scorer\n",
    "from sklearn.preprocessing   import MultiLabelBinarizer\n",
    "from sklearn.preprocessing   import StandardScaler\n",
    "from sklearn.preprocessing   import OneHotEncoder\n",
    "from sklearn.impute          import SimpleImputer\n",
    "from sklearn.model_selection import train_test_split\n",
    "from sklearn.pipeline        import Pipeline\n",
    "from sklearn.compose         import ColumnTransformer\n",
    "from sklearn.multiclass      import OneVsRestClassifier\n",
    "from sklearn.metrics         import f1_score\n",
    "from sklearn.metrics         import recall_score\n",
    "from sklearn.ensemble        import RandomForestClassifier\n",
    "from sklearn.neighbors       import KNeighborsClassifier\n",
    "from sklearn.model_selection import RandomizedSearchCV\n",
    "from sklearn.inspection      import permutation_importance\n"
   ]
  },
  {
   "cell_type": "markdown",
   "id": "metallic-haven",
   "metadata": {
    "id": "suited-blond"
   },
   "source": [
    "# Helper class"
   ]
  },
  {
   "cell_type": "code",
   "execution_count": 2,
   "id": "banned-following",
   "metadata": {
    "id": "signal-lending"
   },
   "outputs": [],
   "source": [
    "class DummyEstimator(BaseEstimator):\n",
    "    \"Pass through class, methods are present but do nothing.\"\n",
    "    def fit(self): pass\n",
    "    def score(self): pass"
   ]
  },
  {
   "cell_type": "markdown",
   "id": "metric-retrieval",
   "metadata": {
    "id": "attempted-australian"
   },
   "source": [
    "# Load data"
   ]
  },
  {
   "cell_type": "markdown",
   "id": "confirmed-company",
   "metadata": {
    "id": "WwErjEvlAewr"
   },
   "source": [
    "https://www.kaggle.com/iqbalbasyar/spotify-genre-classification"
   ]
  },
  {
   "cell_type": "code",
   "execution_count": 3,
   "id": "wicked-maldives",
   "metadata": {
    "id": "right-operation"
   },
   "outputs": [],
   "source": [
    "data = pd.read_csv('https://raw.githubusercontent.com/mmkaddoura/song-genre-prediction/main/SpotifyFeatures.csv')"
   ]
  },
  {
   "cell_type": "markdown",
   "id": "unsigned-software",
   "metadata": {
    "id": "rotary-mining"
   },
   "source": [
    "# Preporcess target\n",
    "Create a single row for each song with a list of all genres as the target column  "
   ]
  },
  {
   "cell_type": "code",
   "execution_count": 4,
   "id": "large-modem",
   "metadata": {
    "id": "successful-causing"
   },
   "outputs": [],
   "source": [
    "def add_labels(row):\n",
    "    return genres.loc[row['track_id']]\n",
    "\n",
    "genres = data.groupby('track_id')['genre'].apply(list)\n",
    "\n",
    "data['labels'] = data.apply(add_labels, axis=1)\n",
    "\n",
    "data = data[data.duplicated(subset='track_id', keep='first')]\n",
    "\n",
    "data = data.drop('genre', axis=1)"
   ]
  },
  {
   "cell_type": "markdown",
   "id": "considered-independence",
   "metadata": {
    "id": "sunset-julian"
   },
   "source": [
    "# Train test split"
   ]
  },
  {
   "cell_type": "markdown",
   "id": "vanilla-universe",
   "metadata": {
    "id": "short-principle"
   },
   "source": [
    "Creat train and test sets"
   ]
  },
  {
   "cell_type": "code",
   "execution_count": 5,
   "id": "vertical-trust",
   "metadata": {
    "id": "polyphonic-slope"
   },
   "outputs": [],
   "source": [
    "target        = data.labels\n",
    "data_features = data.drop('labels', axis=1)\n",
    "\n",
    "X_train, X_test, y_train, y_test = train_test_split(data_features, target, test_size=0.2)"
   ]
  },
  {
   "cell_type": "markdown",
   "id": "cardiac-sacramento",
   "metadata": {
    "id": "color-transcript"
   },
   "source": [
    "# Tranform target"
   ]
  },
  {
   "cell_type": "markdown",
   "id": "dress-hopkins",
   "metadata": {
    "id": "associate-divide"
   },
   "source": [
    "Create binary labels for each class"
   ]
  },
  {
   "cell_type": "code",
   "execution_count": 6,
   "id": "controlling-addiction",
   "metadata": {
    "id": "frequent-deadline"
   },
   "outputs": [],
   "source": [
    "mlb = MultiLabelBinarizer()\n",
    "\n",
    "mlb.fit(y_train)\n",
    "\n",
    "y_train = mlb.transform(y_train)\n",
    "y_test  = mlb.transform(y_test)"
   ]
  },
  {
   "cell_type": "markdown",
   "id": "hybrid-contractor",
   "metadata": {
    "id": "sophisticated-height"
   },
   "source": [
    "# Preprocess features \n",
    "Impute missing values, one hot encode categorical variables, scale the continuous variables, drop the three ID columns"
   ]
  },
  {
   "cell_type": "code",
   "execution_count": 7,
   "id": "polyphonic-architecture",
   "metadata": {
    "id": "attempted-essex"
   },
   "outputs": [],
   "source": [
    "# categorical columns\n",
    "cat_cols = ['key', 'mode', 'time_signature']\n",
    "\n",
    "# continuous columns\n",
    "con_cols = ['duration_ms',\n",
    "            'energy',\n",
    "            'loudness',\n",
    "            'instrumentalness',\n",
    "            'acousticness',\n",
    "            'popularity',\n",
    "            'valence',\n",
    "            'tempo',\n",
    "            'danceability',\n",
    "            'liveness',\n",
    "            'speechiness']\n",
    "\n",
    "# categorical pipeline\n",
    "cat_pipe = Pipeline([('imputer', SimpleImputer(strategy='most_frequent', add_indicator=True)),\n",
    "                     ('ohe', OneHotEncoder(handle_unknown='ignore')),\n",
    "                     ])\n",
    "\n",
    "# continuous pipeline\n",
    "con_pipe = Pipeline([('imputer', SimpleImputer(strategy='median', add_indicator=True)),\n",
    "                     ('scaler', StandardScaler()),\n",
    "                     ])\n",
    "\n",
    "\n",
    "# preporcessing pipeline\n",
    "preprocessing = ColumnTransformer(transformers=\n",
    "                                  [('categorical', cat_pipe, cat_cols),\n",
    "                                   ('continuous',  con_pipe, con_cols),\n",
    "                                   ],\n",
    "                                  remainder='drop')"
   ]
  },
  {
   "cell_type": "markdown",
   "id": "seeing-combat",
   "metadata": {
    "id": "turkish-appraisal"
   },
   "source": [
    "# Creating metrics"
   ]
  },
  {
   "cell_type": "markdown",
   "id": "swedish-charlotte",
   "metadata": {
    "id": "u6PY9MStBoat"
   },
   "source": [
    "I chose to evaluate models using F1 score and recall. F1 is used to evaluate the importance of both true positives and true negatives. I chose to additionally look at recall because in this domain, it is important to see how many of the applicable genres we can predict correctly. I am not looking at accuracy because accuracy checks to see whether or not the model correctly predicted all labels."
   ]
  },
  {
   "cell_type": "code",
   "execution_count": 8,
   "id": "cheap-playlist",
   "metadata": {
    "id": "durable-michael"
   },
   "outputs": [],
   "source": [
    "f1_scorer = make_scorer(f1_score, average='weighted', zero_division=1)\n",
    "recall_scorer = make_scorer(recall_score, average='weighted', zero_division=1)"
   ]
  },
  {
   "cell_type": "markdown",
   "id": "graphic-calgary",
   "metadata": {
    "id": "7Z5w5ElGMYXZ"
   },
   "source": [
    "# Random Search CV for Best Model"
   ]
  },
  {
   "cell_type": "markdown",
   "id": "musical-sudan",
   "metadata": {},
   "source": [
    "Find the best model and its hyperparameters using a randomized search with cross validation."
   ]
  },
  {
   "cell_type": "code",
   "execution_count": 9,
   "id": "placed-metallic",
   "metadata": {
    "colab": {
     "base_uri": "https://localhost:8080/"
    },
    "id": "boxed-rebound",
    "outputId": "1eb9685f-ad63-40db-f7c8-692d58d5f6f9"
   },
   "outputs": [],
   "source": [
    "pipe = Pipeline([('preprocessing', preprocessing), \n",
    "                 ('clf',  OneVsRestClassifier(DummyEstimator(), n_jobs=-1))])\n",
    "\n",
    "candidates = [\n",
    "    {'clf__estimator': [RandomForestClassifier()],\n",
    "     'clf__estimator__bootstrap': [True, False],\n",
    "     'clf__estimator__ccp_alpha': [0.0],\n",
    "     'clf__estimator__criterion': ['gini', 'entropy'],\n",
    "     'clf__estimator__max_depth': [1, 10, 100],\n",
    "     'clf__estimator__max_features': ['sqrt', 'log2'],\n",
    "     'clf__estimator__max_leaf_nodes': [10, 100, 1000],\n",
    "     'clf__estimator__max_samples': [None],\n",
    "     'clf__estimator__min_impurity_decrease': [0.0],\n",
    "     'clf__estimator__min_impurity_split': [None],\n",
    "     'clf__estimator__min_samples_leaf': [1, 10, 20],\n",
    "     'clf__estimator__min_samples_split': [2],\n",
    "     'clf__estimator__min_weight_fraction_leaf': [0.0],\n",
    "     'clf__estimator__n_estimators': [10, 100, 1000],\n",
    "     'clf__estimator__n_jobs': [-1],\n",
    "     'clf__estimator__oob_score': [False],\n",
    "     'clf__estimator__random_state': [None],\n",
    "     'clf__estimator__verbose': [0],\n",
    "     'clf__estimator__warm_start': [False]\n",
    "    },\n",
    "    {'clf__estimator': [KNeighborsClassifier()],\n",
    "     'clf__estimator__algorithm': ['auto', 'ball_tree', 'kd_tree'],\n",
    "     'clf__estimator__leaf_size': [10, 30, 50],\n",
    "     'clf__estimator__metric': ['minkowski'],\n",
    "     'clf__estimator__metric_params': [None],\n",
    "     'clf__estimator__n_jobs': [-1],\n",
    "     'clf__estimator__n_neighbors': [3, 5, 11, 15],\n",
    "     'clf__estimator__p': [2],\n",
    "     'clf__estimator__weights': ['uniform', 'distance']\n",
    "    }\n",
    "]\n",
    "\n",
    "scoring = {\n",
    "    'f1': f1_scorer,\n",
    "    'recall': recall_scorer\n",
    "}\n",
    "\n",
    "rscv = RandomizedSearchCV(estimator=pipe, \n",
    "                          param_distributions=candidates,\n",
    "                          scoring=scoring,\n",
    "                          refit='f1',\n",
    "                          n_iter=13,\n",
    "                          cv=5, \n",
    "                          n_jobs=-1,\n",
    "                          verbose=False)\n",
    "\n",
    "best_model = rscv.fit(X_train, y_train)"
   ]
  },
  {
   "cell_type": "code",
   "execution_count": 13,
   "id": "tracked-security",
   "metadata": {},
   "outputs": [
    {
     "data": {
      "text/plain": [
       "RandomizedSearchCV(cv=5,\n",
       "                   estimator=Pipeline(steps=[('preprocessing',\n",
       "                                              ColumnTransformer(transformers=[('categorical',\n",
       "                                                                               Pipeline(steps=[('imputer',\n",
       "                                                                                                SimpleImputer(add_indicator=True,\n",
       "                                                                                                              strategy='most_frequent')),\n",
       "                                                                                               ('ohe',\n",
       "                                                                                                OneHotEncoder(handle_unknown='ignore'))]),\n",
       "                                                                               ['key',\n",
       "                                                                                'mode',\n",
       "                                                                                'time_signature']),\n",
       "                                                                              ('continuous',\n",
       "                                                                               Pipeline(steps=[('imputer',\n",
       "                                                                                                SimpleImputer(add_indicato...\n",
       "                                         'clf__estimator__metric': ['minkowski'],\n",
       "                                         'clf__estimator__metric_params': [None],\n",
       "                                         'clf__estimator__n_jobs': [-1],\n",
       "                                         'clf__estimator__n_neighbors': [3, 5,\n",
       "                                                                         11,\n",
       "                                                                         15],\n",
       "                                         'clf__estimator__p': [2],\n",
       "                                         'clf__estimator__weights': ['uniform',\n",
       "                                                                     'distance']}],\n",
       "                   refit='f1',\n",
       "                   scoring={'f1': make_scorer(f1_score, average=weighted, zero_division=1),\n",
       "                            'recall': make_scorer(recall_score, average=weighted, zero_division=1)},\n",
       "                   verbose=False)"
      ]
     },
     "execution_count": 13,
     "metadata": {},
     "output_type": "execute_result"
    }
   ],
   "source": [
    "best_model"
   ]
  },
  {
   "cell_type": "markdown",
   "id": "careful-milan",
   "metadata": {
    "id": "applicable-newman"
   },
   "source": [
    "# Best model parameters"
   ]
  },
  {
   "cell_type": "code",
   "execution_count": 10,
   "id": "color-selling",
   "metadata": {
    "colab": {
     "base_uri": "https://localhost:8080/"
    },
    "id": "finite-insured",
    "outputId": "d6d71018-4413-4b34-a71d-1c977e5a9a44"
   },
   "outputs": [
    {
     "data": {
      "text/plain": [
       "{'clf__estimator__warm_start': False,\n",
       " 'clf__estimator__verbose': 0,\n",
       " 'clf__estimator__random_state': None,\n",
       " 'clf__estimator__oob_score': False,\n",
       " 'clf__estimator__n_jobs': -1,\n",
       " 'clf__estimator__n_estimators': 100,\n",
       " 'clf__estimator__min_weight_fraction_leaf': 0.0,\n",
       " 'clf__estimator__min_samples_split': 2,\n",
       " 'clf__estimator__min_samples_leaf': 10,\n",
       " 'clf__estimator__min_impurity_split': None,\n",
       " 'clf__estimator__min_impurity_decrease': 0.0,\n",
       " 'clf__estimator__max_samples': None,\n",
       " 'clf__estimator__max_leaf_nodes': 1000,\n",
       " 'clf__estimator__max_features': 'sqrt',\n",
       " 'clf__estimator__max_depth': 100,\n",
       " 'clf__estimator__criterion': 'gini',\n",
       " 'clf__estimator__ccp_alpha': 0.0,\n",
       " 'clf__estimator__bootstrap': False,\n",
       " 'clf__estimator': RandomForestClassifier(bootstrap=False, max_depth=100, max_features='sqrt',\n",
       "                        max_leaf_nodes=1000, min_samples_leaf=10, n_jobs=-1)}"
      ]
     },
     "execution_count": 10,
     "metadata": {},
     "output_type": "execute_result"
    }
   ],
   "source": [
    "best_model.best_params_"
   ]
  },
  {
   "cell_type": "markdown",
   "id": "constant-setting",
   "metadata": {
    "id": "f0vh6yAtMxLS"
   },
   "source": [
    "# Performance on test set"
   ]
  },
  {
   "cell_type": "markdown",
   "id": "improved-candidate",
   "metadata": {},
   "source": [
    "Applying the best model on the test test to see how well it does on unseen data."
   ]
  },
  {
   "cell_type": "code",
   "execution_count": 11,
   "id": "sophisticated-computer",
   "metadata": {
    "colab": {
     "base_uri": "https://localhost:8080/"
    },
    "id": "7_NXesOTM3Ft",
    "outputId": "0f250049-61c9-432d-8e67-cf321e680b3e"
   },
   "outputs": [
    {
     "name": "stdout",
     "output_type": "stream",
     "text": [
      "F1 score: 0.66704\n",
      "Recall: 0.57460\n"
     ]
    }
   ],
   "source": [
    "y_pred = best_model.predict(X_test)\n",
    "\n",
    "f1 = f1_score(y_test, y_pred, average='weighted', zero_division=1)\n",
    "recall    = recall_score(y_test, y_pred, average='weighted', zero_division=1)\n",
    "\n",
    "print(f'F1 score: {f1:0.5f}')\n",
    "print(f'Recall: {recall:0.5f}')"
   ]
  },
  {
   "cell_type": "markdown",
   "id": "stuck-amendment",
   "metadata": {
    "id": "e0uEY238M83K"
   },
   "source": [
    "# Feature Importance"
   ]
  },
  {
   "cell_type": "markdown",
   "id": "little-cardiff",
   "metadata": {},
   "source": [
    "Which features does the model see as most important?"
   ]
  },
  {
   "cell_type": "code",
   "execution_count": 12,
   "id": "timely-snake",
   "metadata": {
    "colab": {
     "base_uri": "https://localhost:8080/",
     "height": 236
    },
    "id": "removable-sessions",
    "outputId": "ab1d5b42-7aa8-41bc-92c7-9a065e76f5ae"
   },
   "outputs": [
    {
     "name": "stdout",
     "output_type": "stream",
     "text": [
      "popularity 0.177 +/- 0.001\n",
      "speechiness 0.177 +/- 0.002\n",
      "danceability 0.152 +/- 0.002\n",
      "acousticness 0.127 +/- 0.002\n",
      "instrumentalness 0.123 +/- 0.002\n",
      "energy 0.111 +/- 0.002\n",
      "loudness 0.100 +/- 0.002\n",
      "valence 0.092 +/- 0.001\n",
      "duration_ms 0.075 +/- 0.001\n",
      "tempo 0.069 +/- 0.001\n",
      "mode 0.058 +/- 0.001\n",
      "liveness 0.048 +/- 0.001\n",
      "key 0.038 +/- 0.001\n",
      "time_signature 0.007 +/- 0.000\n",
      "track_id 0.000 +/- 0.000\n",
      "track_name 0.000 +/- 0.000\n",
      "artist_name 0.000 +/- 0.000\n"
     ]
    }
   ],
   "source": [
    "r = permutation_importance(best_model, X_test, y_test, n_repeats=15)\n",
    "\n",
    "for i in r.importances_mean.argsort()[::-1]:\n",
    "    print(f\"{X_train.columns[i]}\",\n",
    "        f\"{r.importances_mean[i]:.3f}\"\n",
    "        f\" +/- {r.importances_std[i]:.3f}\")  "
   ]
  },
  {
   "cell_type": "markdown",
   "id": "conservative-deployment",
   "metadata": {
    "id": "unexpected-florence"
   },
   "source": [
    "# Conclusion"
   ]
  },
  {
   "cell_type": "markdown",
   "id": "handled-brazilian",
   "metadata": {
    "id": "liable-islam"
   },
   "source": [
    "Using 56,000 unqique songs with 233,000 genre labels, we are able to predict the genres that belong to a song using their audio features with a Random Forest Classifier with an F1 score of 0.67."
   ]
  },
  {
   "cell_type": "code",
   "execution_count": null,
   "id": "understanding-straight",
   "metadata": {},
   "outputs": [],
   "source": []
  }
 ],
 "metadata": {
  "colab": {
   "collapsed_sections": [],
   "name": "Copy of Spofify.ipynb",
   "provenance": []
  },
  "kernelspec": {
   "display_name": "Python 3",
   "language": "python",
   "name": "python3"
  },
  "language_info": {
   "codemirror_mode": {
    "name": "ipython",
    "version": 3
   },
   "file_extension": ".py",
   "mimetype": "text/x-python",
   "name": "python",
   "nbconvert_exporter": "python",
   "pygments_lexer": "ipython3",
   "version": "3.8.3"
  }
 },
 "nbformat": 4,
 "nbformat_minor": 5
}
